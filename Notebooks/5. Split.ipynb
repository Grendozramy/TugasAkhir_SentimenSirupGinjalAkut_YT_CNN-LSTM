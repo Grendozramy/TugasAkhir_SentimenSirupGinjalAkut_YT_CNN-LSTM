{
 "cells": [
  {
   "cell_type": "code",
   "execution_count": 2,
   "metadata": {},
   "outputs": [],
   "source": [
    "import pandas as pd\n",
    "import numpy as np\n",
    "\n",
    "# Split Dataset\n",
    "from sklearn.model_selection import train_test_split"
   ]
  },
  {
   "cell_type": "code",
   "execution_count": 3,
   "metadata": {},
   "outputs": [
    {
     "name": "stdout",
     "output_type": "stream",
     "text": [
      "Total Dataset : 4776\n"
     ]
    },
    {
     "data": {
      "text/html": [
       "<div>\n",
       "<style scoped>\n",
       "    .dataframe tbody tr th:only-of-type {\n",
       "        vertical-align: middle;\n",
       "    }\n",
       "\n",
       "    .dataframe tbody tr th {\n",
       "        vertical-align: top;\n",
       "    }\n",
       "\n",
       "    .dataframe thead th {\n",
       "        text-align: right;\n",
       "    }\n",
       "</style>\n",
       "<table border=\"1\" class=\"dataframe\">\n",
       "  <thead>\n",
       "    <tr style=\"text-align: right;\">\n",
       "      <th></th>\n",
       "      <th>video_id</th>\n",
       "      <th>comment_text</th>\n",
       "      <th>text_cleaned</th>\n",
       "      <th>text_removal</th>\n",
       "      <th>text_normalized</th>\n",
       "      <th>text_manual_replaced</th>\n",
       "      <th>text_tokenize</th>\n",
       "      <th>label</th>\n",
       "    </tr>\n",
       "  </thead>\n",
       "  <tbody>\n",
       "    <tr>\n",
       "      <th>0</th>\n",
       "      <td>video1</td>\n",
       "      <td>Baiknya bagaimana menurut kalian?</td>\n",
       "      <td>baiknya bagaimana menurut kalian</td>\n",
       "      <td>baik bagaimana turut kalian</td>\n",
       "      <td>baik bagaimana turut kalian</td>\n",
       "      <td>baik bagaimana turut kalian</td>\n",
       "      <td>['baik', 'bagaimana', 'turut', 'kalian']</td>\n",
       "      <td>0</td>\n",
       "    </tr>\n",
       "    <tr>\n",
       "      <th>1</th>\n",
       "      <td>video1</td>\n",
       "      <td>Betul dok betul  dok</td>\n",
       "      <td>betul dok betul dok</td>\n",
       "      <td>betul dok betul dok</td>\n",
       "      <td>betul dok betul dok</td>\n",
       "      <td>betul dok betul dok</td>\n",
       "      <td>['betul', 'dok', 'betul', 'dok']</td>\n",
       "      <td>0</td>\n",
       "    </tr>\n",
       "    <tr>\n",
       "      <th>2</th>\n",
       "      <td>video1</td>\n",
       "      <td>Betul dok mungkin efek sa di</td>\n",
       "      <td>betul dok mungkin efek sa di</td>\n",
       "      <td>betul dok mungkin efek sa</td>\n",
       "      <td>betul dok mungkin efek sa</td>\n",
       "      <td>betul dok mungkin efek sa</td>\n",
       "      <td>['betul', 'dok', 'mungkin', 'efek', 'sa']</td>\n",
       "      <td>0</td>\n",
       "    </tr>\n",
       "    <tr>\n",
       "      <th>3</th>\n",
       "      <td>video1</td>\n",
       "      <td>Bpom aneh, tidak kerja. Kenapa ko seperti itu.</td>\n",
       "      <td>bpom aneh tidak kerja kenapa ko seperti itu</td>\n",
       "      <td>bpom aneh kerja ko itu</td>\n",
       "      <td>bpom aneh kerja kok itu</td>\n",
       "      <td>bpom aneh kerja kok itu</td>\n",
       "      <td>['bpom', 'aneh', 'kerja', 'kok', 'itu']</td>\n",
       "      <td>-1</td>\n",
       "    </tr>\n",
       "    <tr>\n",
       "      <th>4</th>\n",
       "      <td>video1</td>\n",
       "      <td>Benar banget anak sy aj hrs sirup minum obatny...</td>\n",
       "      <td>benar banget anak sy aj hrs sirup minum obatny...</td>\n",
       "      <td>benar banget anak sy aj hrs sirup minum obat d...</td>\n",
       "      <td>benar banget anak saya saja harus sirup minum ...</td>\n",
       "      <td>benar banget anak aku saja harus sirup minum o...</td>\n",
       "      <td>['benar', 'banget', 'anak', 'aku', 'saja', 'ha...</td>\n",
       "      <td>0</td>\n",
       "    </tr>\n",
       "  </tbody>\n",
       "</table>\n",
       "</div>"
      ],
      "text/plain": [
       "  video_id                                       comment_text  \\\n",
       "0   video1                  Baiknya bagaimana menurut kalian?   \n",
       "1   video1                               Betul dok betul  dok   \n",
       "2   video1                       Betul dok mungkin efek sa di   \n",
       "3   video1     Bpom aneh, tidak kerja. Kenapa ko seperti itu.   \n",
       "4   video1  Benar banget anak sy aj hrs sirup minum obatny...   \n",
       "\n",
       "                                        text_cleaned  \\\n",
       "0                   baiknya bagaimana menurut kalian   \n",
       "1                                betul dok betul dok   \n",
       "2                       betul dok mungkin efek sa di   \n",
       "3        bpom aneh tidak kerja kenapa ko seperti itu   \n",
       "4  benar banget anak sy aj hrs sirup minum obatny...   \n",
       "\n",
       "                                        text_removal  \\\n",
       "0                        baik bagaimana turut kalian   \n",
       "1                                betul dok betul dok   \n",
       "2                          betul dok mungkin efek sa   \n",
       "3                             bpom aneh kerja ko itu   \n",
       "4  benar banget anak sy aj hrs sirup minum obat d...   \n",
       "\n",
       "                                     text_normalized  \\\n",
       "0                        baik bagaimana turut kalian   \n",
       "1                                betul dok betul dok   \n",
       "2                          betul dok mungkin efek sa   \n",
       "3                            bpom aneh kerja kok itu   \n",
       "4  benar banget anak saya saja harus sirup minum ...   \n",
       "\n",
       "                                text_manual_replaced  \\\n",
       "0                        baik bagaimana turut kalian   \n",
       "1                                betul dok betul dok   \n",
       "2                          betul dok mungkin efek sa   \n",
       "3                            bpom aneh kerja kok itu   \n",
       "4  benar banget anak aku saja harus sirup minum o...   \n",
       "\n",
       "                                       text_tokenize  label  \n",
       "0           ['baik', 'bagaimana', 'turut', 'kalian']      0  \n",
       "1                   ['betul', 'dok', 'betul', 'dok']      0  \n",
       "2          ['betul', 'dok', 'mungkin', 'efek', 'sa']      0  \n",
       "3            ['bpom', 'aneh', 'kerja', 'kok', 'itu']     -1  \n",
       "4  ['benar', 'banget', 'anak', 'aku', 'saja', 'ha...      0  "
      ]
     },
     "execution_count": 3,
     "metadata": {},
     "output_type": "execute_result"
    }
   ],
   "source": [
    "# Import dataset\n",
    "df = pd.read_csv('../Data/4. EDA/clean-eda.csv')\n",
    "\n",
    "# Menampilkan total dataset\n",
    "print(\"Total Dataset :\", len(df))\n",
    "\n",
    "df.head()"
   ]
  },
  {
   "cell_type": "code",
   "execution_count": 5,
   "metadata": {},
   "outputs": [
    {
     "name": "stdout",
     "output_type": "stream",
     "text": [
      "<class 'pandas.core.frame.DataFrame'>\n",
      "RangeIndex: 4776 entries, 0 to 4775\n",
      "Data columns (total 8 columns):\n",
      " #   Column                Non-Null Count  Dtype \n",
      "---  ------                --------------  ----- \n",
      " 0   video_id              4776 non-null   object\n",
      " 1   comment_text          4776 non-null   object\n",
      " 2   text_cleaned          4776 non-null   object\n",
      " 3   text_removal          4776 non-null   object\n",
      " 4   text_normalized       4776 non-null   object\n",
      " 5   text_manual_replaced  4776 non-null   object\n",
      " 6   text_tokenize         4776 non-null   object\n",
      " 7   label                 4776 non-null   int64 \n",
      "dtypes: int64(1), object(7)\n",
      "memory usage: 298.6+ KB\n"
     ]
    }
   ],
   "source": [
    "# Mengatur ulang indeks DataFrame setelah menghapus baris dengan nilai null\n",
    "df.reset_index(drop=True, inplace=True)\n",
    "\n",
    "# Menampilkan informasi singkat tentang DataFrame, seperti jumlah baris, tipe data, dan penggunaan memori\n",
    "df.info()"
   ]
  },
  {
   "cell_type": "code",
   "execution_count": 6,
   "metadata": {},
   "outputs": [],
   "source": [
    "# Menetapkan kolom 'text_manual_replaced' dari DataFrame 'df' ke variabel 'x' sebagai fitur\n",
    "x = df.text_manual_replaced\n",
    "\n",
    "# Menetapkan kolom 'label' dari DataFrame 'df' ke variabel 'y' sebagai target/label\n",
    "y = df.label"
   ]
  },
  {
   "cell_type": "code",
   "execution_count": 7,
   "metadata": {},
   "outputs": [],
   "source": [
    "# Menetapkan nilai SEED untuk memastikan pembagian data konsisten di setiap eksekusi\n",
    "SEED = 42\n",
    "\n",
    "# Memisahkan dataset menjadi data latih dan gabungan data validasi dan uji dengan proporsi 80:20\n",
    "x_train, x_validation_and_test, y_train, y_validation_and_test = train_test_split(x, y, test_size=.2, random_state=SEED, stratify=y)\n",
    "\n",
    "# Memisahkan gabungan data validasi dan uji menjadi data validasi dan uji dengan proporsi 50:50\n",
    "x_validation, x_test, y_validation, y_test = train_test_split(x_validation_and_test, y_validation_and_test, test_size=.5, random_state=SEED, stratify=y_validation_and_test)\n"
   ]
  },
  {
   "cell_type": "code",
   "execution_count": 12,
   "metadata": {},
   "outputs": [],
   "source": [
    "train_total = len(x_train)\n",
    "train_neg = (len(x_train[y_train == -1]) / train_total) * 100\n",
    "train_neu = (len(x_train[y_train == 0]) / train_total) * 100\n",
    "train_pos = (len(x_train[y_train == 1]) / train_total) * 100\n",
    "\n",
    "val_total = len(x_validation)\n",
    "val_neg = (len(x_validation[y_validation == -1]) / val_total) * 100\n",
    "val_neu = (len(x_validation[y_validation == 0]) / val_total) * 100\n",
    "val_pos = (len(x_validation[y_validation == 1]) / val_total) * 100\n",
    "\n",
    "test_total = len(x_test)\n",
    "test_neg = (len(x_test[y_test == -1]) / test_total) * 100\n",
    "test_neu = (len(x_test[y_test == 0]) / test_total) * 100\n",
    "test_pos = (len(x_test[y_test == 1]) / test_total) * 100\n"
   ]
  },
  {
   "cell_type": "code",
   "execution_count": 13,
   "metadata": {},
   "outputs": [
    {
     "name": "stdout",
     "output_type": "stream",
     "text": [
      "Set             Total Entries   Negative        Neutral         Positive       \n",
      "-------------------------------------------------------------------------------\n",
      "Train set       3820            33.04%            37.51%            29.45%\n",
      "Validation set  478             33.05%            37.45%            29.50%\n",
      "Test set        478             33.05%            37.66%            29.29%\n"
     ]
    }
   ],
   "source": [
    "header = f\"{'Set':<15} {'Total Entries':<15} {'Negative':<15} {'Neutral':<15} {'Positive':<15}\"\n",
    "separator = \"-\" * len(header)\n",
    "\n",
    "print(header)\n",
    "print(separator)\n",
    "print(f\"{'Train set':<15} {train_total:<15} {train_neg:.2f}% {' '*10} {train_neu:.2f}% {' '*10} {train_pos:.2f}%\")\n",
    "print(f\"{'Validation set':<15} {val_total:<15} {val_neg:.2f}% {' '*10} {val_neu:.2f}% {' '*10} {val_pos:.2f}%\")\n",
    "print(f\"{'Test set':<15} {test_total:<15} {test_neg:.2f}% {' '*10} {test_neu:.2f}% {' '*10} {test_pos:.2f}%\")"
   ]
  },
  {
   "cell_type": "code",
   "execution_count": 14,
   "metadata": {},
   "outputs": [],
   "source": [
    "# Menggabungkan fitur dan label untuk setiap bagian dataset\n",
    "train_data = pd.concat([x_train, y_train], axis=1)\n",
    "validation_data = pd.concat([x_validation, y_validation], axis=1)\n",
    "test_data = pd.concat([x_test, y_test], axis=1)\n",
    "\n",
    "# Menyimpan setiap bagian dataset ke file CSV\n",
    "train_data.to_csv('../Data/5. Split/train_data.csv', index=False)\n",
    "validation_data.to_csv('../Data/5. Split/validation_data.csv', index=False)\n",
    "test_data.to_csv('../Data/5. Split/test_data.csv', index=False)\n"
   ]
  }
 ],
 "metadata": {
  "kernelspec": {
   "display_name": "Python 3",
   "language": "python",
   "name": "python3"
  },
  "language_info": {
   "codemirror_mode": {
    "name": "ipython",
    "version": 3
   },
   "file_extension": ".py",
   "mimetype": "text/x-python",
   "name": "python",
   "nbconvert_exporter": "python",
   "pygments_lexer": "ipython3",
   "version": "3.10.10"
  },
  "orig_nbformat": 4
 },
 "nbformat": 4,
 "nbformat_minor": 2
}
