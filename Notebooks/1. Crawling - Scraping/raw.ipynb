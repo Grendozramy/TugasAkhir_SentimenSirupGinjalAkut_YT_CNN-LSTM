{
 "cells": [
  {
   "cell_type": "code",
   "execution_count": 1,
   "metadata": {},
   "outputs": [],
   "source": [
    "import pandas as pd"
   ]
  },
  {
   "cell_type": "code",
   "execution_count": 3,
   "metadata": {},
   "outputs": [],
   "source": [
    "# Baca file CSV\n",
    "df1 = pd.read_csv('../../Data/1. Raw/dr.RichardLee_1.csv')\n",
    "df2 = pd.read_csv('../../Data/1. Raw/dr.RichardLee_2.csv')\n",
    "df3 = pd.read_csv('../../Data/1. Raw/dr.RichardLee_3.csv')\n",
    "\n",
    "# Tambahkan kolom 'videoId' untuk mengidentifikasi video asal\n",
    "df1['videoId'] = 'video1'\n",
    "df2['videoId'] = 'video2'\n",
    "df3['videoId'] = 'video3'\n",
    "\n",
    "# Gabungkan dataset\n",
    "combined_dataset = pd.concat([df1, df2, df3], ignore_index=True)\n",
    "\n",
    "# Simpan dataset gabungan ke file CSV baru\n",
    "combined_dataset.to_csv(\"../../Data/1. Raw/Dr_Richard_Lee_MARS_Sirup_Gagal_Ginjal_Komentar.csv\", index=False)\n"
   ]
  }
 ],
 "metadata": {
  "kernelspec": {
   "display_name": "Python 3",
   "language": "python",
   "name": "python3"
  },
  "language_info": {
   "codemirror_mode": {
    "name": "ipython",
    "version": 3
   },
   "file_extension": ".py",
   "mimetype": "text/x-python",
   "name": "python",
   "nbconvert_exporter": "python",
   "pygments_lexer": "ipython3",
   "version": "3.10.10"
  },
  "orig_nbformat": 4
 },
 "nbformat": 4,
 "nbformat_minor": 2
}
